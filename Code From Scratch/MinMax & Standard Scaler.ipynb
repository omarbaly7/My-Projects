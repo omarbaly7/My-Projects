{
 "cells": [
  {
   "cell_type": "code",
   "execution_count": 2,
   "id": "d4de58d8-c316-41c5-a498-429145ab0f1f",
   "metadata": {},
   "outputs": [],
   "source": [
    "import numpy as np \n",
    "from sklearn.preprocessing import MinMaxScaler ,StandardScaler"
   ]
  },
  {
   "cell_type": "markdown",
   "id": "ae1ade69-18df-4f89-93c8-1db717ff666e",
   "metadata": {},
   "source": [
    "# * Equation of min max \n",
    "$$MinMax =\\frac{x-min}  {max-min}$$ \n",
    "***Note :  it is applied For Every Column not whole data***"
   ]
  },
  {
   "cell_type": "code",
   "execution_count": 4,
   "id": "6bb40698-2e66-4681-a309-ab0dd58654d8",
   "metadata": {},
   "outputs": [],
   "source": [
    "def min_max_scaler (data) :\n",
    "    data=data.astype(float)\n",
    "    number_columns = data.shape[1] \n",
    "    for i in range (number_columns) :\n",
    "        old_col = data[:,i]\n",
    "        min_col = old_col.min()\n",
    "        max_col = old_col.max()\n",
    "        if max_col == min_col :\n",
    "            data[:,i] = np.zeros_like(data[:,i])\n",
    "            continue\n",
    "            \n",
    "        numerator = old_col - min_col\n",
    "        denominator = max_col- min_col \n",
    "        data[:,i] = numerator / denominator\n",
    "    return data\n",
    "    \n",
    "data = np.array([[1,100,10000,],\n",
    "                [2,200,20000,],\n",
    "                [3,300,30000]])\n"
   ]
  },
  {
   "cell_type": "code",
   "execution_count": 5,
   "id": "c94f1f97-c026-46bf-b60d-b32aa911b69c",
   "metadata": {},
   "outputs": [
    {
     "data": {
      "text/plain": [
       "array([[    1,   100, 10000],\n",
       "       [    2,   200, 20000],\n",
       "       [    3,   300, 30000]])"
      ]
     },
     "execution_count": 5,
     "metadata": {},
     "output_type": "execute_result"
    }
   ],
   "source": [
    "data"
   ]
  },
  {
   "cell_type": "code",
   "execution_count": 6,
   "id": "229bebb9-4903-41c6-a5a3-c15ce7838585",
   "metadata": {},
   "outputs": [
    {
     "data": {
      "text/plain": [
       "array([[0. , 0. , 0. ],\n",
       "       [0.5, 0.5, 0.5],\n",
       "       [1. , 1. , 1. ]])"
      ]
     },
     "execution_count": 6,
     "metadata": {},
     "output_type": "execute_result"
    }
   ],
   "source": [
    "min_max_scaler(data)"
   ]
  },
  {
   "cell_type": "markdown",
   "id": "d8c55f50-b3a6-4aeb-ab59-cda3352b4bd7",
   "metadata": {},
   "source": [
    "# Sklearn_MinMax Scaler"
   ]
  },
  {
   "cell_type": "code",
   "execution_count": 8,
   "id": "c258b55c-5ba5-42a2-9019-0462dc5afde5",
   "metadata": {},
   "outputs": [
    {
     "data": {
      "text/plain": [
       "array([[0. , 0. , 0. ],\n",
       "       [0.5, 0.5, 0.5],\n",
       "       [1. , 1. , 1. ]])"
      ]
     },
     "execution_count": 8,
     "metadata": {},
     "output_type": "execute_result"
    }
   ],
   "source": [
    "data = np.array([[1,100,10000,],\n",
    "                [2,200,20000,],\n",
    "                [3,300,30000]])\n",
    "\n",
    "sk_min_max_scaler=MinMaxScaler()\n",
    "sk_min_max_scaler.fit_transform(data)"
   ]
  },
  {
   "cell_type": "code",
   "execution_count": null,
   "id": "2f5c6f4c-86cf-458d-8813-6648742b87fe",
   "metadata": {},
   "outputs": [],
   "source": []
  },
  {
   "cell_type": "markdown",
   "id": "3464b171-02fe-4cb0-a8df-9122b5f4f5c4",
   "metadata": {},
   "source": [
    "# * Equation of Standard Scaler \n",
    "$$Standard Scaler =\\frac{x-mean} {std}$$ \n",
    "***Note :  it is applied For Every Column not whole data***"
   ]
  },
  {
   "cell_type": "code",
   "execution_count": 10,
   "id": "e268e773-0428-4ca5-89c9-985dc2a674fd",
   "metadata": {},
   "outputs": [],
   "source": [
    "def standard_scaler (data) :\n",
    "    data=data.astype(float)\n",
    "    number_columns = data.shape[1] \n",
    "    for i in range (number_columns) :\n",
    "        old_col = data[:,i]\n",
    "        mean_col = np.mean(old_col)\n",
    "        std_col = np.std(old_col)\n",
    "        numerator = old_col- mean_col \n",
    "        \n",
    "        data[:,i] = numerator / std_col\n",
    "    return data\n",
    "    \n",
    "data = np.array([[1,100,10000,],\n",
    "                [2,200,20000,],\n",
    "                [3,300,30000]])\n"
   ]
  },
  {
   "cell_type": "code",
   "execution_count": 11,
   "id": "d775a19a-755d-459d-afb7-d9a74b168e6b",
   "metadata": {},
   "outputs": [
    {
     "data": {
      "text/plain": [
       "array([[-1.22474487, -1.22474487, -1.22474487],\n",
       "       [ 0.        ,  0.        ,  0.        ],\n",
       "       [ 1.22474487,  1.22474487,  1.22474487]])"
      ]
     },
     "execution_count": 11,
     "metadata": {},
     "output_type": "execute_result"
    }
   ],
   "source": [
    "standard_scaler(data)"
   ]
  },
  {
   "cell_type": "markdown",
   "id": "cb7edf73-a6c2-4e7d-8585-e1e0cbb008c5",
   "metadata": {},
   "source": [
    "# Sklearn_StandardScaler"
   ]
  },
  {
   "cell_type": "code",
   "execution_count": 13,
   "id": "c3c5066c-c1f1-4d66-8b11-d25171cc072d",
   "metadata": {},
   "outputs": [
    {
     "data": {
      "text/plain": [
       "array([[-1.22474487, -1.22474487, -1.22474487],\n",
       "       [ 0.        ,  0.        ,  0.        ],\n",
       "       [ 1.22474487,  1.22474487,  1.22474487]])"
      ]
     },
     "execution_count": 13,
     "metadata": {},
     "output_type": "execute_result"
    }
   ],
   "source": [
    "data = np.array([[1,100,10000,],\n",
    "                [2,200,20000,],\n",
    "                [3,300,30000]])\n",
    "\n",
    "sk_standard_scaler=StandardScaler()\n",
    "sk_standard_scaler.fit_transform(data)"
   ]
  }
 ],
 "metadata": {
  "kernelspec": {
   "display_name": "Python 3 (ipykernel)",
   "language": "python",
   "name": "python3"
  },
  "language_info": {
   "codemirror_mode": {
    "name": "ipython",
    "version": 3
   },
   "file_extension": ".py",
   "mimetype": "text/x-python",
   "name": "python",
   "nbconvert_exporter": "python",
   "pygments_lexer": "ipython3",
   "version": "3.11.7"
  }
 },
 "nbformat": 4,
 "nbformat_minor": 5
}
